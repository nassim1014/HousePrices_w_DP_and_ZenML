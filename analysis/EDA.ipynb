{
 "cells": [
  {
   "cell_type": "code",
   "execution_count": null,
   "metadata": {},
   "outputs": [],
   "source": [
    "# import libs\n",
    "import pandas as pd\n",
    "from src_analysis.basic_data_inspection import DataInspector, DataTypesInspectionStrategy, SummaryStatisticsInspectionStrategy , CategoricalSummaryInspectionStrategy\n",
    "from src_analysis.missing_values_analysis import SimpleMissingValuesAnalysis"
   ]
  },
  {
   "cell_type": "code",
   "execution_count": 9,
   "metadata": {},
   "outputs": [],
   "source": [
    "# load the data\n",
    "data_path = \"../Data/Housing.csv\"\n",
    "df = df = pd.read_csv(data_path)"
   ]
  },
  {
   "cell_type": "code",
   "execution_count": 19,
   "metadata": {},
   "outputs": [
    {
     "name": "stdout",
     "output_type": "stream",
     "text": [
      "### Data Types and Non-Null Counts ###\n",
      "<class 'pandas.core.frame.DataFrame'>\n",
      "RangeIndex: 545 entries, 0 to 544\n",
      "Data columns (total 13 columns):\n",
      " #   Column            Non-Null Count  Dtype \n",
      "---  ------            --------------  ----- \n",
      " 0   price             545 non-null    int64 \n",
      " 1   area              545 non-null    int64 \n",
      " 2   bedrooms          545 non-null    int64 \n",
      " 3   bathrooms         545 non-null    int64 \n",
      " 4   stories           545 non-null    int64 \n",
      " 5   mainroad          545 non-null    object\n",
      " 6   guestroom         545 non-null    object\n",
      " 7   basement          545 non-null    object\n",
      " 8   hotwaterheating   545 non-null    object\n",
      " 9   airconditioning   545 non-null    object\n",
      " 10  parking           545 non-null    int64 \n",
      " 11  prefarea          545 non-null    object\n",
      " 12  furnishingstatus  545 non-null    object\n",
      "dtypes: int64(6), object(7)\n",
      "memory usage: 55.5+ KB\n",
      "None\n"
     ]
    }
   ],
   "source": [
    "# basic inspection\n",
    "data_inspector = DataInspector(DataTypesInspectionStrategy())\n",
    "data_inspector.inspect_data(df)\n"
   ]
  },
  {
   "cell_type": "code",
   "execution_count": 20,
   "metadata": {},
   "outputs": [
    {
     "name": "stdout",
     "output_type": "stream",
     "text": [
      "### Summary Statistics (Numerical Columns) ###\n",
      "              price          area    bedrooms   bathrooms     stories  \\\n",
      "count  5.450000e+02    545.000000  545.000000  545.000000  545.000000   \n",
      "mean   4.766729e+06   5150.541284    2.965138    1.286239    1.805505   \n",
      "std    1.870440e+06   2170.141023    0.738064    0.502470    0.867492   \n",
      "min    1.750000e+06   1650.000000    1.000000    1.000000    1.000000   \n",
      "25%    3.430000e+06   3600.000000    2.000000    1.000000    1.000000   \n",
      "50%    4.340000e+06   4600.000000    3.000000    1.000000    2.000000   \n",
      "75%    5.740000e+06   6360.000000    3.000000    2.000000    2.000000   \n",
      "max    1.330000e+07  16200.000000    6.000000    4.000000    4.000000   \n",
      "\n",
      "          parking  \n",
      "count  545.000000  \n",
      "mean     0.693578  \n",
      "std      0.861586  \n",
      "min      0.000000  \n",
      "25%      0.000000  \n",
      "50%      0.000000  \n",
      "75%      1.000000  \n",
      "max      3.000000  \n"
     ]
    }
   ],
   "source": [
    "data_inspector.set_strategy(SummaryStatisticsInspectionStrategy())\n",
    "data_inspector.inspect_data(df)"
   ]
  },
  {
   "cell_type": "code",
   "execution_count": 17,
   "metadata": {},
   "outputs": [
    {
     "name": "stdout",
     "output_type": "stream",
     "text": [
      "### Summary Statistics (Categorical Columns) ###\n",
      "       mainroad guestroom basement hotwaterheating airconditioning prefarea  \\\n",
      "count       545       545      545             545             545      545   \n",
      "unique        2         2        2               2               2        2   \n",
      "top         yes        no       no              no              no       no   \n",
      "freq        468       448      354             520             373      417   \n",
      "\n",
      "       furnishingstatus  \n",
      "count               545  \n",
      "unique                3  \n",
      "top      semi-furnished  \n",
      "freq                227  \n"
     ]
    }
   ],
   "source": [
    "data_inspector.set_strategy(CategoricalSummaryInspectionStrategy())\n",
    "data_inspector.inspect_data(df)"
   ]
  },
  {
   "cell_type": "code",
   "execution_count": 23,
   "metadata": {},
   "outputs": [
    {
     "ename": "NameError",
     "evalue": "name 'SimpleMissingValuesAnalysis' is not defined",
     "output_type": "error",
     "traceback": [
      "\u001b[1;31m---------------------------------------------------------------------------\u001b[0m",
      "\u001b[1;31mNameError\u001b[0m                                 Traceback (most recent call last)",
      "Cell \u001b[1;32mIn[23], line 2\u001b[0m\n\u001b[0;32m      1\u001b[0m \u001b[38;5;66;03m# missing values\u001b[39;00m\n\u001b[1;32m----> 2\u001b[0m missing_values_analyser \u001b[38;5;241m=\u001b[39m \u001b[43mSimpleMissingValuesAnalysis\u001b[49m()\n\u001b[0;32m      3\u001b[0m missing_values_analyser\u001b[38;5;241m.\u001b[39midentify_missing_values(df)\n",
      "\u001b[1;31mNameError\u001b[0m: name 'SimpleMissingValuesAnalysis' is not defined"
     ]
    }
   ],
   "source": [
    "# missing values\n",
    "missing_values_analyser = SimpleMissingValuesAnalysis()\n",
    "missing_values_analyser.identify_missing_values(df)"
   ]
  },
  {
   "cell_type": "code",
   "execution_count": null,
   "metadata": {},
   "outputs": [],
   "source": [
    "missing_values_analyser.visualize_missing_values(df)"
   ]
  },
  {
   "cell_type": "markdown",
   "metadata": {},
   "source": [
    "1. **Dataset Dimensions**:\n",
    "- Total Rows: 545 records\n",
    "- Total Columns: 13 features\n",
    "\n",
    "2. **Feature Types**:\n",
    "- **Numerical Features** (6 columns):\n",
    "  - price (target variable)\n",
    "  - area\n",
    "  - bedrooms (discrete)\n",
    "  - bathrooms (discrete)\n",
    "  - stories (discrete)\n",
    "  - parking (discrete)\n",
    "\n",
    "- **Categorical Features** (7 columns):\n",
    "  - mainroad (yes/no)\n",
    "  - guestroom (yes/no)\n",
    "  - basement (yes/no)\n",
    "  - hotwaterheating (yes/no)\n",
    "  - airconditioning (yes/no)\n",
    "  - prefarea (yes/no)\n",
    "  - furnishingstatus (furnished/semi-furnished/unfurnished)\n",
    "\n",
    "3. **Data Quality**:\n",
    "- No missing values in any column (all 545 rows are complete)\n",
    "- No duplicate entries\n",
    "\n",
    "4. **Value Ranges** (for key numerical features):\n",
    "- Price: 1.75M to 13.3M (target variable)\n",
    "- Area: 1,650 to 16,200 square units\n",
    "- Bedrooms: 1 to 6\n",
    "- Bathrooms: 1 to 4\n",
    "- Stories: 1 to 4\n",
    "- Parking: 0 to 3\n",
    "\n",
    "**Key Insights: (Numerical Columns):**\n",
    "    Price:\n",
    "        Most house prices range between 3.4M and 5.7M.\n",
    "        The average price is 4.77M, with significant variation due to high-priced outliers (max: 13.3M).\n",
    "\n",
    "    Area:\n",
    "        Average house size is 5,150 sq. ft..\n",
    "        Most houses fall between 3,600 and 6,360 sq. ft., but a few are extremely large (max: 16,200 sq. ft.).\n",
    "\n",
    "    Bedrooms:\n",
    "        Majority of houses have 2 to 3 bedrooms (mean: 3).\n",
    "\n",
    "    Bathrooms:\n",
    "        Most houses have 1 to 2 bathrooms (mean: 1.3).\n",
    "\n",
    "    Stories:\n",
    "        Houses typically have 1 to 2 stories (mean: 1.8).\n",
    "\n",
    "    Parking:\n",
    "        Most houses have 0 to 1 parking spaces (mean: 0.7, max: 3).\n",
    "\n",
    "**Summary**: The data shows moderate house sizes (around 5,150 sq. ft.) with 2-3 bedrooms, 1-2 bathrooms, and 1-2 stories. Prices are mostly clustered below 5.7M, but high outliers influence the average. Parking availability is generally low.\n",
    "\n",
    "**Key Insights: (Categorical Columns):**\n",
    "\n",
    "    Mainroad:\n",
    "        Majority of houses (468) have access to the main road.\n",
    "\n",
    "    Guestroom:\n",
    "        Most houses (448) do not have a guest room.\n",
    "\n",
    "    Basement:\n",
    "        Majority of houses (354) do not have a basement.\n",
    "\n",
    "    Hot Water Heating:\n",
    "        Very few houses have hot water heating (520 have no hot water heating).\n",
    "\n",
    "    Air Conditioning:\n",
    "        Most houses (373) do not have air conditioning.\n",
    "\n",
    "    Preferred Area:\n",
    "        Majority of houses (417) are not located in a preferred area.\n",
    "\n",
    "    Furnishing Status:\n",
    "        The most common furnishing status is semi-furnished (227 houses), followed by other categories.\n",
    "\n",
    "**Summary**: Most houses lack additional features like guest rooms, basements, air conditioning, and hot water heating. Access to the main road is common, but preferred area locations are less frequent. Semi-furnished houses are the most prevalent furnishing type.\n",
    "\n",
    "The dataset is clean and well-structured with:\n",
    "- No missing values that need imputation\n",
    "- A good mix of numerical and categorical features\n",
    "- Binary categorical variables (mostly yes/no)\n",
    "- One multi-class categorical variable (furnishingstatus)\n",
    "- Reasonable value ranges with no obvious errors\n"
   ]
  }
 ],
 "metadata": {
  "kernelspec": {
   "display_name": "Python 3",
   "language": "python",
   "name": "python3"
  },
  "language_info": {
   "codemirror_mode": {
    "name": "ipython",
    "version": 3
   },
   "file_extension": ".py",
   "mimetype": "text/x-python",
   "name": "python",
   "nbconvert_exporter": "python",
   "pygments_lexer": "ipython3",
   "version": "3.10.11"
  }
 },
 "nbformat": 4,
 "nbformat_minor": 2
}
